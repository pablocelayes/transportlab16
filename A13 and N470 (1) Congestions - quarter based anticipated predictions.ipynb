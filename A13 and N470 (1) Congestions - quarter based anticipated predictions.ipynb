{
 "cells": [
  {
   "cell_type": "markdown",
   "metadata": {},
   "source": [
    "We begin by importing some required modules for our analysis."
   ]
  },
  {
   "cell_type": "code",
   "execution_count": 1,
   "metadata": {
    "collapsed": false
   },
   "outputs": [],
   "source": [
    "%matplotlib inline\n",
    "\n",
    "from sklearn.cross_validation import StratifiedKFold\n",
    "from sklearn.grid_search import GridSearchCV\n",
    "from sklearn.metrics import classification_report\n",
    "from sklearn.ensemble import RandomForestClassifier\n",
    "import pandas as pd\n",
    "import pickle   "
   ]
  },
  {
   "cell_type": "markdown",
   "metadata": {},
   "source": [
    "The idea of the following explorations is to train a simple baseline model that attempts to predict congestions and traffic jams at the intersection of highway A13 and road N470, in the direction from The Hague to Rotterdam. "
   ]
  },
  {
   "cell_type": "markdown",
   "metadata": {},
   "source": [
    "Manually checking the coordinates in the data from NDW ( see Info A13 N470 1.1.csv ) and converting coordinates to Rijksdriehoeksmeting system ( http://www.gpscoordinaten.nl/converteer-rd-coordinaten.php ), we identify the columns corresponding to the intersection of interest."
   ]
  },
  {
   "cell_type": "code",
   "execution_count": 2,
   "metadata": {
    "collapsed": true
   },
   "outputs": [],
   "source": [
    "n470_hects = range(53,70)"
   ]
  },
  {
   "cell_type": "markdown",
   "metadata": {},
   "source": [
    "For our features, we will use speed and flow data from a neighborhood of 20 hectometers before and after the intersection"
   ]
  },
  {
   "cell_type": "code",
   "execution_count": 5,
   "metadata": {
    "collapsed": false
   },
   "outputs": [],
   "source": [
    "ngbr_hects = range(33,90)\n",
    "\n",
    "rf = pd.read_csv('a13/Rechts_Flow_2011.csv', header=None)\n",
    "rs = pd.read_csv('a13/Rechts_Speed_2011.csv', header=None)\n",
    "df = pd.concat([rf.iloc[:,ngbr_hects], rs.iloc[:,ngbr_hects]],axis=1)"
   ]
  },
  {
   "cell_type": "markdown",
   "metadata": {},
   "source": [
    "We begin with a naive definition of what we consider to be a congestion.\n",
    "We just compute, for each moment, the average speed over the intersection. The moments where this speed is below a reasonable threshold will be considered congestions. Let us plot these average speeds to get a better intuition."
   ]
  },
  {
   "cell_type": "code",
   "execution_count": 6,
   "metadata": {
    "collapsed": false
   },
   "outputs": [
    {
     "data": {
      "text/plain": [
       "<matplotlib.axes._subplots.AxesSubplot at 0x7f1fced15ef0>"
      ]
     },
     "execution_count": 6,
     "metadata": {},
     "output_type": "execute_result"
    },
    {
     "data": {
      "image/png": "[encoded data removed]",
      "text/plain": [
       "<matplotlib.figure.Figure at 0x7f1fced15160>"
      ]
     },
     "metadata": {},
     "output_type": "display_data"
    }
   ],
   "source": [
    "rs_intersection = rs.iloc[:,n470_hects]\n",
    "\n",
    "inters_means = rs_intersection.mean(axis=1)\n",
    "\n",
    "inters_means.hist(bins=60)"
   ]
  },
  {
   "cell_type": "markdown",
   "metadata": {},
   "source": [
    "We see in the histogram that speeds of 95 or less are rare, so we take that as our threshold for congestion"
   ]
  },
  {
   "cell_type": "code",
   "execution_count": 7,
   "metadata": {
    "collapsed": true
   },
   "outputs": [],
   "source": [
    "jam_threshold = 95"
   ]
  },
  {
   "cell_type": "markdown",
   "metadata": {},
   "source": [
    "Armed with this information we can already make our first experiment in training a predictive model.\n",
    "We will start with one that tries to predict congestions with 5 minutes of anticipation, using the flow and speed dataset created above."
   ]
  },
  {
   "cell_type": "code",
   "execution_count": 8,
   "metadata": {
    "collapsed": true
   },
   "outputs": [],
   "source": [
    "mins_diff=5\n",
    "y = (inters_means < jam_threshold)[mins_diff:]\n",
    "df = df.iloc[:-mins_diff,:]"
   ]
  },
  {
   "cell_type": "markdown",
   "metadata": {},
   "source": [
    "Seasonality can have a big impact on the behaviour of traffic, and on the other hand, over 500k rows of data is a lot to train on, so we propose creating separate models and datasets for separate quarters of the year."
   ]
  },
  {
   "cell_type": "code",
   "execution_count": 41,
   "metadata": {
    "collapsed": true
   },
   "outputs": [],
   "source": [
    "quarter_size = df.shape[0]//4\n",
    "\n",
    "df1 = df.iloc[:quarter_size,:]\n",
    "y1 = y[:quarter_size]\n",
    "\n",
    "df2 = df.iloc[quarter_size:2*quarter_size,:]\n",
    "y2 = y[quarter_size:2*quarter_size]\n",
    "\n",
    "df3 = df.iloc[2*quarter_size:3*quarter_size,:]\n",
    "y3 = y[2*quarter_size:3*quarter_size]\n",
    "\n",
    "df4 = df.iloc[3*quarter_size:,:]\n",
    "y4 = y[3*quarter_size:]"
   ]
  },
  {
   "cell_type": "markdown",
   "metadata": {},
   "source": [
    "Let us now start with a dataset for 1st quarter"
   ]
  },
  {
   "cell_type": "code",
   "execution_count": 42,
   "metadata": {
    "collapsed": true
   },
   "outputs": [],
   "source": [
    "df, y = df1, y1"
   ]
  },
  {
   "cell_type": "markdown",
   "metadata": {},
   "source": [
    "We choose to do the train/test split based on temporality and not at random, to make the evaluation of the model more realistic, and also to avoid contamination of train data with measurements lying too close to those in test data."
   ]
  },
  {
   "cell_type": "code",
   "execution_count": 44,
   "metadata": {
    "collapsed": false
   },
   "outputs": [],
   "source": [
    "def train_test_split(df, y, test_size=0.3):\n",
    "    cut = int(len(y) * test_size)\n",
    "\n",
    "    X_train = df.iloc[:-cut,:]\n",
    "    X_test = df.iloc[-cut:,:]\n",
    "\n",
    "    y_train = y[:-cut]\n",
    "    y_test = y[-cut:]\n",
    "\n",
    "    return X_train, X_test, y_train, y_test"
   ]
  },
  {
   "cell_type": "code",
   "execution_count": 45,
   "metadata": {
    "collapsed": false
   },
   "outputs": [],
   "source": [
    "X_train, X_test, y_train, y_test =  train_test_split(df, y)"
   ]
  },
  {
   "cell_type": "markdown",
   "metadata": {},
   "source": [
    "Now we try to fit an out-of-the-box RandomForestClassifier to the train set and see how it performs"
   ]
  },
  {
   "cell_type": "code",
   "execution_count": 46,
   "metadata": {
    "collapsed": false
   },
   "outputs": [
    {
     "data": {
      "text/plain": [
       "RandomForestClassifier(bootstrap=True, class_weight=None, criterion='gini',\n",
       "            max_depth=None, max_features='auto', max_leaf_nodes=None,\n",
       "            min_samples_leaf=1, min_samples_split=2,\n",
       "            min_weight_fraction_leaf=0.0, n_estimators=10, n_jobs=1,\n",
       "            oob_score=False, random_state=None, verbose=0,\n",
       "            warm_start=False)"
      ]
     },
     "execution_count": 46,
     "metadata": {},
     "output_type": "execute_result"
    }
   ],
   "source": [
    "clf = RandomForestClassifier()\n",
    "clf.fit(X_train, y_train)"
   ]
  },
  {
   "cell_type": "code",
   "execution_count": 47,
   "metadata": {
    "collapsed": false
   },
   "outputs": [
    {
     "name": "stdout",
     "output_type": "stream",
     "text": [
      "             precision    recall  f1-score   support\n",
      "\n",
      "      False       0.98      0.99      0.98     33537\n",
      "       True       0.93      0.86      0.89      5882\n",
      "\n",
      "avg / total       0.97      0.97      0.97     39419\n",
      "\n"
     ]
    }
   ],
   "source": [
    "y_true, y_pred = y_test, clf.predict(X_test)\n",
    "print(classification_report(y_true, y_pred))"
   ]
  },
  {
   "cell_type": "markdown",
   "metadata": {},
   "source": [
    "Not bad! But may be we can do better, specially when it comes to recall, which actually tells us how many of these congestion moments we are able to predict.\n",
    "\n",
    "This classification problem is very unbalanced, as the congestion state is much less frequent than the smooth state (fortunately!).\n",
    "\n",
    "We can pass a class_weight parameter to our RandomForest to make it more aware of this situation."
   ]
  },
  {
   "cell_type": "code",
   "execution_count": 48,
   "metadata": {
    "collapsed": false
   },
   "outputs": [
    {
     "name": "stdout",
     "output_type": "stream",
     "text": [
      "             precision    recall  f1-score   support\n",
      "\n",
      "      False       0.97      0.99      0.98     33537\n",
      "       True       0.94      0.82      0.88      5882\n",
      "\n",
      "avg / total       0.97      0.97      0.97     39419\n",
      "\n"
     ]
    }
   ],
   "source": [
    "clf = RandomForestClassifier(class_weight='balanced')\n",
    "y_pred = clf.fit(X_train, y_train).predict(X_test)\n",
    "print(classification_report(y_true, y_pred))"
   ]
  },
  {
   "cell_type": "markdown",
   "metadata": {},
   "source": [
    "It improved in precision, but recall went down. Let's a different balancing method"
   ]
  },
  {
   "cell_type": "code",
   "execution_count": 49,
   "metadata": {
    "collapsed": false
   },
   "outputs": [
    {
     "name": "stdout",
     "output_type": "stream",
     "text": [
      "             precision    recall  f1-score   support\n",
      "\n",
      "      False       0.97      0.99      0.98     33537\n",
      "       True       0.94      0.82      0.88      5882\n",
      "\n",
      "avg / total       0.97      0.97      0.97     39419\n",
      "\n"
     ]
    }
   ],
   "source": [
    "clf = RandomForestClassifier(class_weight='balanced_subsample')\n",
    "y_pred = clf.fit(X_train, y_train).predict(X_test)\n",
    "print(classification_report(y_true, y_pred))"
   ]
  },
  {
   "cell_type": "markdown",
   "metadata": {},
   "source": [
    "Ok, let us leave the weights out for now, they don't seem to be helping."
   ]
  },
  {
   "cell_type": "code",
   "execution_count": 50,
   "metadata": {
    "collapsed": false
   },
   "outputs": [
    {
     "name": "stdout",
     "output_type": "stream",
     "text": [
      "             precision    recall  f1-score   support\n",
      "\n",
      "      False       0.98      0.99      0.98     33537\n",
      "       True       0.93      0.86      0.89      5882\n",
      "\n",
      "avg / total       0.97      0.97      0.97     39419\n",
      "\n"
     ]
    }
   ],
   "source": [
    "clf = RandomForestClassifier()\n",
    "y_pred = clf.fit(X_train, y_train).predict(X_test)\n",
    "print(classification_report(y_true, y_pred))"
   ]
  },
  {
   "cell_type": "markdown",
   "metadata": {},
   "source": [
    "Now let's see what happens for the other quarters"
   ]
  },
  {
   "cell_type": "markdown",
   "metadata": {},
   "source": [
    "### Q2"
   ]
  },
  {
   "cell_type": "code",
   "execution_count": 56,
   "metadata": {
    "collapsed": false
   },
   "outputs": [
    {
     "name": "stdout",
     "output_type": "stream",
     "text": [
      "             precision    recall  f1-score   support\n",
      "\n",
      "      False       0.97      0.99      0.98     31370\n",
      "       True       0.94      0.87      0.90      8049\n",
      "\n",
      "avg / total       0.96      0.96      0.96     39419\n",
      "\n"
     ]
    }
   ],
   "source": [
    "X_train, X_test, y_train, y_test =  train_test_split(df2, y2)\n",
    "clf = RandomForestClassifier()\n",
    "y_pred = clf.fit(X_train, y_train).predict(X_test)\n",
    "print(classification_report(y_test, y_pred))"
   ]
  },
  {
   "cell_type": "markdown",
   "metadata": {},
   "source": [
    "Mmmm... not really. We'll investigate this one later. Let's move on for now"
   ]
  },
  {
   "cell_type": "markdown",
   "metadata": {},
   "source": [
    "### Q3"
   ]
  },
  {
   "cell_type": "code",
   "execution_count": 57,
   "metadata": {
    "collapsed": false
   },
   "outputs": [
    {
     "name": "stdout",
     "output_type": "stream",
     "text": [
      "             precision    recall  f1-score   support\n",
      "\n",
      "      False       0.97      0.99      0.98     32690\n",
      "       True       0.94      0.83      0.88      6729\n",
      "\n",
      "avg / total       0.96      0.96      0.96     39419\n",
      "\n"
     ]
    }
   ],
   "source": [
    "X_train, X_test, y_train, y_test =  train_test_split(df3, y3)\n",
    "clf = RandomForestClassifier()\n",
    "y_pred = clf.fit(X_train, y_train).predict(X_test)\n",
    "print(classification_report(y_test, y_pred))"
   ]
  },
  {
   "cell_type": "markdown",
   "metadata": {},
   "source": [
    "### Q4"
   ]
  },
  {
   "cell_type": "code",
   "execution_count": 58,
   "metadata": {
    "collapsed": false
   },
   "outputs": [
    {
     "name": "stdout",
     "output_type": "stream",
     "text": [
      "             precision    recall  f1-score   support\n",
      "\n",
      "      False       0.96      0.99      0.98     32777\n",
      "       True       0.95      0.81      0.88      6643\n",
      "\n",
      "avg / total       0.96      0.96      0.96     39420\n",
      "\n"
     ]
    }
   ],
   "source": [
    "X_train, X_test, y_train, y_test =  train_test_split(df4, y4)\n",
    "clf = RandomForestClassifier()\n",
    "y_pred = clf.fit(X_train, y_train).predict(X_test)\n",
    "print(classification_report(y_test, y_pred))"
   ]
  },
  {
   "cell_type": "markdown",
   "metadata": {},
   "source": [
    "From this data we can also quickly see which is the quarter with more congestion time:\n"
   ]
  },
  {
   "cell_type": "code",
   "execution_count": 61,
   "metadata": {
    "collapsed": false
   },
   "outputs": [
    {
     "data": {
      "text/plain": [
       "[384.75, 424.41666666666669, 264.46666666666664, 425.60000000000002]"
      ]
     },
     "execution_count": 61,
     "metadata": {},
     "output_type": "execute_result"
    }
   ],
   "source": [
    "[sum(y)/60 for y in [y1, y2, y3, y4]]"
   ]
  },
  {
   "cell_type": "markdown",
   "metadata": {},
   "source": [
    "It's almost a tie between Q2 and Q4 with around 425 hours of congestion time each."
   ]
  },
  {
   "cell_type": "markdown",
   "metadata": {},
   "source": [
    "## More anticipation"
   ]
  },
  {
   "cell_type": "markdown",
   "metadata": {},
   "source": [
    "We now try with longer intervals of anticipation, to see how this affects the quality of the model.\n",
    "Let us do it for Q2 to begin with. First we define some auxiliary functions"
   ]
  },
  {
   "cell_type": "code",
   "execution_count": 62,
   "metadata": {
    "collapsed": true
   },
   "outputs": [],
   "source": [
    "def get_datasets_q2(mins_diff=10):\n",
    "    y = (inters_means < jam_threshold)[mins_diff:]\n",
    "\n",
    "    df = pd.concat([rf.iloc[:,ngbr_hects], rs.iloc[:,ngbr_hects]],axis=1)\n",
    "    df = df.iloc[:-mins_diff,:]\n",
    "\n",
    "    df2 = df.iloc[quarter_size:2*quarter_size,:]\n",
    "    y2 = y[quarter_size:2*quarter_size]\n",
    "    \n",
    "    return df2, y2\n",
    "\n",
    "def train_eval(df, y):\n",
    "    X_train, X_test, y_train, y_test =  train_test_split(df, y)\n",
    "    clf = RandomForestClassifier()\n",
    "    y_pred = clf.fit(X_train, y_train).predict(X_test)\n",
    "    print(classification_report(y_test, y_pred))"
   ]
  },
  {
   "cell_type": "markdown",
   "metadata": {},
   "source": [
    "Ok, now let us experiment with different levels of anticipation and see how this affects the quality of the predictons."
   ]
  },
  {
   "cell_type": "code",
   "execution_count": 65,
   "metadata": {
    "collapsed": false
   },
   "outputs": [
    {
     "name": "stdout",
     "output_type": "stream",
     "text": [
      "Trying to predict with 10 mins of anticipation\n",
      "             precision    recall  f1-score   support\n",
      "\n",
      "      False       0.96      0.98      0.97     31372\n",
      "       True       0.92      0.83      0.87      8047\n",
      "\n",
      "avg / total       0.95      0.95      0.95     39419\n",
      "\n",
      "Trying to predict with 20 mins of anticipation\n",
      "             precision    recall  f1-score   support\n",
      "\n",
      "      False       0.94      0.97      0.96     31372\n",
      "       True       0.87      0.77      0.82      8047\n",
      "\n",
      "avg / total       0.93      0.93      0.93     39419\n",
      "\n",
      "Trying to predict with 30 mins of anticipation\n",
      "             precision    recall  f1-score   support\n",
      "\n",
      "      False       0.93      0.96      0.95     31372\n",
      "       True       0.83      0.70      0.76      8047\n",
      "\n",
      "avg / total       0.91      0.91      0.91     39419\n",
      "\n",
      "Trying to predict with 40 mins of anticipation\n",
      "             precision    recall  f1-score   support\n",
      "\n",
      "      False       0.91      0.96      0.93     31372\n",
      "       True       0.80      0.64      0.71      8047\n",
      "\n",
      "avg / total       0.89      0.89      0.89     39419\n",
      "\n",
      "Trying to predict with 50 mins of anticipation\n",
      "             precision    recall  f1-score   support\n",
      "\n",
      "      False       0.90      0.95      0.92     31372\n",
      "       True       0.75      0.59      0.66      8047\n",
      "\n",
      "avg / total       0.87      0.88      0.87     39419\n",
      "\n",
      "Trying to predict with 60 mins of anticipation\n",
      "             precision    recall  f1-score   support\n",
      "\n",
      "      False       0.89      0.94      0.91     31372\n",
      "       True       0.71      0.53      0.61      8047\n",
      "\n",
      "avg / total       0.85      0.86      0.85     39419\n",
      "\n"
     ]
    }
   ],
   "source": [
    "for mins in [10, 20, 30, 40, 50, 60]:\n",
    "    print (\"Trying to predict with %d mins of anticipation\" % mins)\n",
    "    df, y = get_datasets_q2(mins)\n",
    "    train_eval(df, y)"
   ]
  }
 ],
 "metadata": {
  "kernelspec": {
   "display_name": "Python 3",
   "language": "python",
   "name": "python3"
  },
  "language_info": {
   "codemirror_mode": {
    "name": "ipython",
    "version": 3
   },
   "file_extension": ".py",
   "mimetype": "text/x-python",
   "name": "python",
   "nbconvert_exporter": "python",
   "pygments_lexer": "ipython3",
   "version": "3.5.1"
  }
 },
 "nbformat": 4,
 "nbformat_minor": 0
}
