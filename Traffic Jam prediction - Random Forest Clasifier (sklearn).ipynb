{
 "cells": [
  {
   "cell_type": "code",
   "execution_count": 6,
   "metadata": {
    "collapsed": false
   },
   "outputs": [],
   "source": [
    "%matplotlib inline\n",
    "import warnings\n",
    "warnings.filterwarnings('ignore')\n",
    "\n",
    "from sklearn.cross_validation import train_test_split, StratifiedKFold\n",
    "from sklearn.grid_search import GridSearchCV\n",
    "from sklearn.metrics import classification_report\n",
    "from sklearn.ensemble import RandomForestClassifier\n",
    "import pandas as pd\n",
    "import pickle   "
   ]
  },
  {
   "cell_type": "code",
   "execution_count": 7,
   "metadata": {
    "collapsed": false
   },
   "outputs": [],
   "source": [
    "def create_dataset_right(rs_tag, mins_diff=5):\n",
    "    rf = pd.read_csv('a13/Rechts_Flow_2011.csv')\n",
    "    rs = pd.read_csv('a13/Rechts_Speed_2011.csv')\n",
    "\n",
    "    jam_threshold = rs[rs_tag].quantile(.25)\n",
    "\n",
    "    y = (rs[rs_tag] < jam_threshold)[mins_diff:]\n",
    "\n",
    "    df = pd.concat([rf,rs],axis=1)\n",
    "\n",
    "    df = df.iloc[:-mins_diff,:]\n",
    "\n",
    "    return df, y\n",
    "\n",
    "def train_val_test_split(df, y, test_size=0.15, val_size=0.15):\n",
    "    cut1 = int(len(y) * test_size)\n",
    "    cut2 = int(len(y) * (test_size + val_size))\n",
    "\n",
    "    X_train = df.iloc[:-cut2,:]\n",
    "    X_val = df.iloc[-cut2:-cut1,:]\n",
    "    X_test = df.iloc[-cut1:,:]\n",
    "\n",
    "    y_train = y[:-cut2]\n",
    "    y_val = y[-cut2:-cut1]\n",
    "    y_test = y[-cut1:]\n",
    "\n",
    "    return X_train, X_val, X_test, y_train, y_val, y_test"
   ]
  },
  {
   "cell_type": "code",
   "execution_count": 8,
   "metadata": {
    "collapsed": false
   },
   "outputs": [],
   "source": [
    "df, y = create_dataset_right(rs_tag='118.4', mins_diff=5)"
   ]
  },
  {
   "cell_type": "code",
   "execution_count": 9,
   "metadata": {
    "collapsed": false
   },
   "outputs": [],
   "source": [
    "X_train, _, X_test, y_train, _, y_test =  train_val_test_split(df, y, test_size=0.3, val_size=0)"
   ]
  },
  {
   "cell_type": "code",
   "execution_count": 10,
   "metadata": {
    "collapsed": true
   },
   "outputs": [],
   "source": [
    "def train_eval_classifier(X_train, X_test, y_train, y_test):\n",
    "    params = dict(\n",
    "        max_depth=[30],\n",
    "        n_estimators=[100],\n",
    "    )\n",
    "\n",
    "    score = 'f1'\n",
    "\n",
    "    clf = GridSearchCV(\n",
    "        RandomForestClassifier(),  \n",
    "        param_grid=params,  # parameters to tune via cross validation\n",
    "        refit=True,  # fit using all data, on the best detected classifier\n",
    "        n_jobs=-1,  # number of cores to use for parallelization; -1 for \"all cores\"\n",
    "        scoring=score,  # what score are we optimizing?\n",
    "        cv=StratifiedKFold(y_train, n_folds=3),  # what type of cross validation to use\n",
    "    )\n",
    "\n",
    "    clf.fit(X_train, y_train)\n",
    "\n",
    "    return clf\n"
   ]
  },
  {
   "cell_type": "code",
   "execution_count": 11,
   "metadata": {
    "collapsed": false
   },
   "outputs": [],
   "source": [
    "clf = train_eval_classifier(X_train, X_test, y_train, y_test)"
   ]
  },
  {
   "cell_type": "code",
   "execution_count": 12,
   "metadata": {
    "collapsed": false
   },
   "outputs": [
    {
     "name": "stdout",
     "output_type": "stream",
     "text": [
      "             precision    recall  f1-score   support\n",
      "\n",
      "      False       0.94      0.98      0.96    117547\n",
      "       True       0.92      0.81      0.86     40131\n",
      "\n",
      "avg / total       0.93      0.93      0.93    157678\n",
      "\n"
     ]
    }
   ],
   "source": [
    "y_true, y_pred = y_test, clf.predict(X_test)\n",
    "print(classification_report(y_true, y_pred))\n"
   ]
  }
 ],
 "metadata": {
  "kernelspec": {
   "display_name": "Python 3",
   "language": "python",
   "name": "python3"
  },
  "language_info": {
   "codemirror_mode": {
    "name": "ipython",
    "version": 3
   },
   "file_extension": ".py",
   "mimetype": "text/x-python",
   "name": "python",
   "nbconvert_exporter": "python",
   "pygments_lexer": "ipython3",
   "version": "3.5.1"
  }
 },
 "nbformat": 4,
 "nbformat_minor": 0
}
